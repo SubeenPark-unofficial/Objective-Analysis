{
 "cells": [
  {
   "cell_type": "code",
   "execution_count": null,
   "metadata": {
    "collapsed": true
   },
   "outputs": [],
   "source": [
    "import numpy as np\n",
    "\n",
    "# Q1\n",
    "\n",
    "x = np.arange(-50,51,1)\n",
    "t = np.arange(1,1001,1)\n",
    "eta_coord = []\n",
    "eta_2D = []\n",
    "\n",
    "for i in range(len(x)):\n",
    "    for j in range(len(t)):\n",
    "            X = x[i]\n",
    "            T = t[j]\n",
    "            # eta(x, t) = (1 / 50)xcos(2pit / 100) + (1 / 500)xcos(2pit / 10)\n",
    "            eta_ij = (1/50) * X * np.cos((2 * np.pi * T)/100) + (1/500) * X* np.cos((2 * np.pi * T)/10)\n",
    "            # print (eta_ij)\n",
    "            eta_coord.append((X, T))\n",
    "            eta_2D.append(eta_ij)\n",
    "\n",
    "np.array(eta_2D).reshape(len(x),len(t))\n",
    "# np.array(eta_coord).reshape(len(x),len(t))\n",
    "\n",
    "\n",
    "print (eta_2D)\n",
    "\n"
   ]
  }
 ],
 "metadata": {
  "kernelspec": {
   "display_name": "Python 3",
   "language": "python",
   "name": "python3"
  },
  "language_info": {
   "codemirror_mode": {
    "name": "ipython",
    "version": 2
   },
   "file_extension": ".py",
   "mimetype": "text/x-python",
   "name": "python",
   "nbconvert_exporter": "python",
   "pygments_lexer": "ipython2",
   "version": "2.7.6"
  }
 },
 "nbformat": 4,
 "nbformat_minor": 0
}